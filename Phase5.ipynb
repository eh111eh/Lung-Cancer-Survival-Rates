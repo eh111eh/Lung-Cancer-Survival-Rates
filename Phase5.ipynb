{
 "cells": [
  {
   "cell_type": "markdown",
   "id": "ba2ebd39",
   "metadata": {},
   "source": [
    "# Table of Contents\n",
    "\n",
    "**I. [Introduction](#introduction)** <br>\n",
    "&nbsp;1.1 Background Information and Context <br>\n",
    "&nbsp;1.2 Data Sources <br>\n",
    "&nbsp;1.3 Research Questions <br>\n",
    "&nbsp;1.4 Summary of Findings <br>\n",
    "\n",
    "**II. [Methods](#methods)** <br>\n",
    "&nbsp;2.1 Data Description <br>\n",
    "&nbsp;2.2 Variables and Dataframes <br>\n",
    "&nbsp;2.3 Data Analysis\n",
    "\n",
    "**III. [Results](#results)** <br>\n",
    "&nbsp;3.1 Evaluation of Significance <br>\n",
    "&nbsp;3.2 Conclusion <br>\n",
    "\n",
    "**IV. [Discussion](#discussion)** <br>\n",
    "&nbsp;4.1 Limitations"
   ]
  },
  {
   "cell_type": "markdown",
   "id": "724c8bc9",
   "metadata": {},
   "source": [
    "# I. Introduction <a name=\"introduction\"></a>"
   ]
  },
  {
   "cell_type": "markdown",
   "id": "f9c2d271",
   "metadata": {},
   "source": [
    "### 1.1 Background Information and Context\n",
    "\n",
    "Due to plenty of studies we already know lung cancer can be related to pollution and living environments. And we also know that, due to our lived expiriences and life long consumption of news, in the U.S. surviving any kind of helath related complication is dependent on the resources present and resources's accessiblity. But, what we don't really know about is how societal factors can correlate different helath conditions globally. In this study, we try to see if lung cancer survival rates correlate to specific variables and if there can be any conclusions drawn from that."
   ]
  },
  {
   "cell_type": "markdown",
   "id": "47173d67",
   "metadata": {},
   "source": [
    "### 1.2 Data Sources\n",
    "- Lung Cancer Survival Rates : https://gco.iarc.fr/overtime/en/dataviz/trends\n",
    "- Proportion of Population Pushed Below 3.65 Poverty Line by Out-of-Pocket Health Care Expenditure : https://data.worldbank.org/indicator/SH.UHC.NOP2.ZS\n",
    "- Forest Area Coverage : https://data.worldbank.org/indicator/AG.LND.FRST.ZS \n",
    "- Current Health Expenditure (% of GDP) : https://data.worldbank.org/indicator/SH.XPD.CHEX.GD.ZS\n",
    "- Domestic General Government Health Expenditure per Capita (Current US Dollars) : https://data.worldbank.org/indicator/SH.XPD.GHED.PC.CD\n",
    "- Out-of-Pocket Expenditure per Capita (Current US Dollars) : https://data.worldbank.org/indicator/SH.XPD.OOPC.PC.CD\n",
    "- Physicians (Per 1000 People) : https://data.worldbank.org/indicator/SH.MED.PHYS.ZS\n",
    "- Incidence of Tuberculosis (Per 100,000 People) : https://data.worldbank.org/indicator/SH.TBS.INCD\n",
    "- Urban Population (% of Total Population) : https://data.worldbank.org/indicator/SP.URB.TOTL.IN.ZS\"\n"
   ]
  },
  {
   "cell_type": "markdown",
   "id": "7176ae4f",
   "metadata": {},
   "source": [
    "### 1.3 Research Questions \n",
    "\n",
    "Our general research question is do geographical and sociopolitical factors impact lung cancer survival rates? And if so, which factors and to what degree? <br> <br>\n",
    "We try to start answer this by exploring the follwing statements: \n",
    "1. The effects of the factors on lung cancer survival rates will vary depending on the country. For example, developed countries will have a higher cancer survival rate if they have a greater forest area, while developing countries will have a lower cancer survival rate for a greater forest area.\n",
    "2. Certain factors will affect the survival rate mostly/more in long term and others will affect it mostly in short term. For example, forest area could affect survival rate after 5 years more than after 1 year since forests won’t save someone who is in critical condition. However, it may affect survival rate after 5 years since it may help patients maintain their condition."
   ]
  },
  {
   "cell_type": "markdown",
   "id": "85f43fa8",
   "metadata": {},
   "source": [
    "### 1.4 Summary of Findings\n",
    "TODO"
   ]
  },
  {
   "cell_type": "markdown",
   "id": "87919089",
   "metadata": {},
   "source": [
    "# II. Methods <a name=\"methods\"></a>"
   ]
  },
  {
   "cell_type": "markdown",
   "id": "db8c8bb9",
   "metadata": {},
   "source": [
    "## 2.1 Data Description"
   ]
  },
  {
   "cell_type": "markdown",
   "id": "a1ffa313",
   "metadata": {},
   "source": [
    "Individually, we selected 7 factors we thought are likely to impact the lung cancer survival rate for a total of 7 data sets. These datasets are all sourced from the WorldBank site. The 8th data set is the data set of lung cancer survival rates by country and by year. \n",
    "\n",
    "**What are the observations (rows) and the attributes (columns)?:** \n",
    "Attributes of the X DataFrame are indexed by the 'country' (the name of the relevant country) and further contextualized by the attribute 'year' (the relevant year of the data in between 2000-2019). Most country and year combination has an observation correlating to the following attributes: \n",
    "- c_dollar2_poverty : Proportion of Population Pushed Below 3 dollar and 65 cents Poverty Line by Out-of-Pocket Health Care Expenditure\n",
    "- c_forest_area : The Percentage of Land Area covered by Forest\n",
    "- c_health_expenditure : The Percentage of a Country's GDP that goes towards Health Expenditures\n",
    "- c_out_of_pocket : Out-of-Pocket Expenditure per Capita (Current US Dollars)\n",
    "- c_physician : Physicians (Per 1000 People)\n",
    "- c_tuberculosis : Incidence of Tuberculosis (Per 100,000 People)\n",
    "- c_urban_pop : The Percentage of the Total Population living in Urban Areas \n",
    "\n",
    "The observation of the y dataframe are by countries and attributed by the year of observation. The dataframe contained data on the age-standardized rate of mortality for lung cancer.\n",
    "\n",
    "**Why was the dataset created? Who funded it?:** The data is all sourced from The World Bank. \"The World Bank Group is one of the world’s largest sources of funding and knowledge for developing countries. Its five institutions share a commitment to reducing poverty, increasing shared prosperity, and promoting sustainable development.\" The World Bank collects the geographic and sociopolitical data used here, to better inform where and how funding is distributed on an international scale. https://www.worldbank.org/en/who-we-are\n",
    "\n",
    "**What processes might have influenced what data was observed and recorded and what was not?** \n",
    "Though logistically difficult and expensive, the collection of world development indidicator data is an important part of any country's ability to recognize areas of opportunity for national improvement and the needs of communities. For example, with our world development indicators, countries with high rates of mortality from cancer may question the flaws in their infrastructure that leads to such negative outcomes. The influences that affect the recording of data can be nefarious, however. Countries may twist data to mislead international bodies, allies, and rivals, with high-impact indicators such as financial rates often being twisted to encourage foreign investment.\n",
    "\n",
    "**What preprocessing was done, and how did the data come to be in the form that you are using?** We downloaded the csv files from the world bank. The datasets came in packs of three csv files, two of which consisted only of metadata. We discarded the two files of metadata. For the remaining csv file which had all of the relevent data, we deleted the first 4 lines.\n",
    "\n",
    "**If people are involved, were they aware of the data collection and if so, what purpose did they expect the data to be used for?** \n",
    "The source of our data is likely government census data. As such, citizens of countries recognize that as a part of that country's population, they should contribute to that country's bank of data regarding their citizens. In the same way that taxes and birth certificates are filed and issued, as citizens we expect the government to keep a basic profile on all of us, whether that be in the form of simply affirming existence, or logging cancer mortality and household income.\n",
    "\n",
    "**Where can your raw source data be found, if applicable?** Raw source Data can be found from where we got our csv files at https://data.worldbank.org/indicator . They can also be found on our github repository in the folder called data : https://github.coecis.cornell.edu/mk932/INFO2950_Project_Team.git .\n",
    "\n",
    "We are hoping to explore possibilities of causation further down the road, but for phase 2 we will be looking for correlations between the factors and the survival rate."
   ]
  },
  {
   "cell_type": "markdown",
   "id": "57a5d394",
   "metadata": {},
   "source": [
    "## 2.2 Variables and DataFrames"
   ]
  },
  {
   "cell_type": "code",
   "execution_count": 2,
   "id": "a397f9ee",
   "metadata": {},
   "outputs": [
    {
     "name": "stdout",
     "output_type": "stream",
     "text": [
      "Intel MKL WARNING: Support of Intel(R) Streaming SIMD Extensions 4.2 (Intel(R) SSE4.2) enabled only processors has been deprecated. Intel oneAPI Math Kernel Library 2025.0 will require Intel(R) Advanced Vector Extensions (Intel(R) AVX) instructions.\n",
      "Intel MKL WARNING: Support of Intel(R) Streaming SIMD Extensions 4.2 (Intel(R) SSE4.2) enabled only processors has been deprecated. Intel oneAPI Math Kernel Library 2025.0 will require Intel(R) Advanced Vector Extensions (Intel(R) AVX) instructions.\n"
     ]
    }
   ],
   "source": [
    "import numpy as np\n",
    "import pandas as pd\n",
    "import matplotlib.pyplot as plt\n",
    "import seaborn as sns\n",
    "from sklearn.linear_model import LinearRegression, LogisticRegression\n",
    "from sklearn.model_selection import train_test_split\n",
    "from sklearn.metrics import mean_squared_error\n",
    "import duckdb\n",
    "from statsmodels.stats.diagnostic import het_white\n",
    "import statsmodels.api as sm"
   ]
  },
  {
   "cell_type": "code",
   "execution_count": 3,
   "id": "83d3fb3f",
   "metadata": {},
   "outputs": [],
   "source": [
    "X = pd.read_csv('./data/dataframes/X')\n",
    "X_df = X.set_index('country')\n",
    "y_f = pd.read_csv('./data/dataframes/y_f')\n",
    "y_m = pd.read_csv('./data/dataframes/y_m')\n",
    "\n",
    "years = ['2000','2001','2002','2003','2004','2005','2006','2007','2008','2009',\n",
    "         '2010','2011','2012','2013','2014','2015','2016','2017','2017','2018','2019']\n",
    "\n",
    "countries = X['country'].unique()\n",
    "\n",
    "dict_of_year_dfs = {}\n",
    "for yr in years:\n",
    "    dict_of_year_dfs[yr] = X[X[\"year\"] == str(yr)]\n",
    "\n",
    "dict_of_country_dfs = {}\n",
    "for c in countries:\n",
    "    dict_of_country_dfs[c] = X[X['country'] == c]\n",
    "\n",
    "y_mortality_stat = pd.read_csv('./data/dataframes/y_stat')\n",
    "\n",
    "country_means_df = pd.read_csv('./data/dataframes/country_means')\n",
    "country_medians_df = pd.read_csv('./data/dataframes/country_medians')\n",
    "country_variances_df = pd.read_csv('./data/dataframes/country_variances')"
   ]
  },
  {
   "cell_type": "markdown",
   "id": "fd71ac83",
   "metadata": {},
   "source": [
    "## 2.3 Data Analysis for Hypothesis 1"
   ]
  },
  {
   "cell_type": "markdown",
   "id": "a8835dc6",
   "metadata": {},
   "source": [
    "### Summary Statistics "
   ]
  },
  {
   "cell_type": "markdown",
   "id": "b4e47e25",
   "metadata": {},
   "source": [
    "Here we look at the correlation matrix to check for confounding variables."
   ]
  },
  {
   "cell_type": "code",
   "execution_count": 4,
   "id": "6eda032c",
   "metadata": {
    "scrolled": false
   },
   "outputs": [
    {
     "data": {
      "text/html": [
       "<div>\n",
       "<style scoped>\n",
       "    .dataframe tbody tr th:only-of-type {\n",
       "        vertical-align: middle;\n",
       "    }\n",
       "\n",
       "    .dataframe tbody tr th {\n",
       "        vertical-align: top;\n",
       "    }\n",
       "\n",
       "    .dataframe thead th {\n",
       "        text-align: right;\n",
       "    }\n",
       "</style>\n",
       "<table border=\"1\" class=\"dataframe\">\n",
       "  <thead>\n",
       "    <tr style=\"text-align: right;\">\n",
       "      <th></th>\n",
       "      <th>year</th>\n",
       "      <th>c_dollar2_poverty</th>\n",
       "      <th>c_forest_area</th>\n",
       "      <th>c_health_expenditure</th>\n",
       "      <th>c_out_of_pocket</th>\n",
       "      <th>c_physician</th>\n",
       "      <th>c_tuberculosis</th>\n",
       "      <th>c_urban_pop</th>\n",
       "      <th>ASR (female)</th>\n",
       "    </tr>\n",
       "  </thead>\n",
       "  <tbody>\n",
       "    <tr>\n",
       "      <th>year</th>\n",
       "      <td>1.000000</td>\n",
       "      <td>-0.073478</td>\n",
       "      <td>0.558065</td>\n",
       "      <td>0.146870</td>\n",
       "      <td>0.537079</td>\n",
       "      <td>0.354214</td>\n",
       "      <td>0.316367</td>\n",
       "      <td>-0.157359</td>\n",
       "      <td>0.111512</td>\n",
       "    </tr>\n",
       "    <tr>\n",
       "      <th>c_dollar2_poverty</th>\n",
       "      <td>-0.073478</td>\n",
       "      <td>1.000000</td>\n",
       "      <td>0.151159</td>\n",
       "      <td>-0.255773</td>\n",
       "      <td>-0.127196</td>\n",
       "      <td>0.347590</td>\n",
       "      <td>0.514823</td>\n",
       "      <td>-0.398811</td>\n",
       "      <td>-0.104906</td>\n",
       "    </tr>\n",
       "    <tr>\n",
       "      <th>c_forest_area</th>\n",
       "      <td>0.558065</td>\n",
       "      <td>0.151159</td>\n",
       "      <td>1.000000</td>\n",
       "      <td>-0.128064</td>\n",
       "      <td>0.887369</td>\n",
       "      <td>0.679421</td>\n",
       "      <td>0.685022</td>\n",
       "      <td>-0.367116</td>\n",
       "      <td>0.363734</td>\n",
       "    </tr>\n",
       "    <tr>\n",
       "      <th>c_health_expenditure</th>\n",
       "      <td>0.146870</td>\n",
       "      <td>-0.255773</td>\n",
       "      <td>-0.128064</td>\n",
       "      <td>1.000000</td>\n",
       "      <td>-0.119837</td>\n",
       "      <td>-0.085814</td>\n",
       "      <td>-0.078611</td>\n",
       "      <td>0.113581</td>\n",
       "      <td>-0.408340</td>\n",
       "    </tr>\n",
       "    <tr>\n",
       "      <th>c_out_of_pocket</th>\n",
       "      <td>0.537079</td>\n",
       "      <td>-0.127196</td>\n",
       "      <td>0.887369</td>\n",
       "      <td>-0.119837</td>\n",
       "      <td>1.000000</td>\n",
       "      <td>0.325402</td>\n",
       "      <td>0.272037</td>\n",
       "      <td>-0.348362</td>\n",
       "      <td>0.473556</td>\n",
       "    </tr>\n",
       "    <tr>\n",
       "      <th>c_physician</th>\n",
       "      <td>0.354214</td>\n",
       "      <td>0.347590</td>\n",
       "      <td>0.679421</td>\n",
       "      <td>-0.085814</td>\n",
       "      <td>0.325402</td>\n",
       "      <td>1.000000</td>\n",
       "      <td>0.904064</td>\n",
       "      <td>-0.187403</td>\n",
       "      <td>0.022550</td>\n",
       "    </tr>\n",
       "    <tr>\n",
       "      <th>c_tuberculosis</th>\n",
       "      <td>0.316367</td>\n",
       "      <td>0.514823</td>\n",
       "      <td>0.685022</td>\n",
       "      <td>-0.078611</td>\n",
       "      <td>0.272037</td>\n",
       "      <td>0.904064</td>\n",
       "      <td>1.000000</td>\n",
       "      <td>-0.215587</td>\n",
       "      <td>0.012881</td>\n",
       "    </tr>\n",
       "    <tr>\n",
       "      <th>c_urban_pop</th>\n",
       "      <td>-0.157359</td>\n",
       "      <td>-0.398811</td>\n",
       "      <td>-0.367116</td>\n",
       "      <td>0.113581</td>\n",
       "      <td>-0.348362</td>\n",
       "      <td>-0.187403</td>\n",
       "      <td>-0.215587</td>\n",
       "      <td>1.000000</td>\n",
       "      <td>-0.275399</td>\n",
       "    </tr>\n",
       "    <tr>\n",
       "      <th>ASR (female)</th>\n",
       "      <td>0.111512</td>\n",
       "      <td>-0.104906</td>\n",
       "      <td>0.363734</td>\n",
       "      <td>-0.408340</td>\n",
       "      <td>0.473556</td>\n",
       "      <td>0.022550</td>\n",
       "      <td>0.012881</td>\n",
       "      <td>-0.275399</td>\n",
       "      <td>1.000000</td>\n",
       "    </tr>\n",
       "  </tbody>\n",
       "</table>\n",
       "</div>"
      ],
      "text/plain": [
       "                          year  c_dollar2_poverty  c_forest_area  \\\n",
       "year                  1.000000          -0.073478       0.558065   \n",
       "c_dollar2_poverty    -0.073478           1.000000       0.151159   \n",
       "c_forest_area         0.558065           0.151159       1.000000   \n",
       "c_health_expenditure  0.146870          -0.255773      -0.128064   \n",
       "c_out_of_pocket       0.537079          -0.127196       0.887369   \n",
       "c_physician           0.354214           0.347590       0.679421   \n",
       "c_tuberculosis        0.316367           0.514823       0.685022   \n",
       "c_urban_pop          -0.157359          -0.398811      -0.367116   \n",
       "ASR (female)          0.111512          -0.104906       0.363734   \n",
       "\n",
       "                      c_health_expenditure  c_out_of_pocket  c_physician  \\\n",
       "year                              0.146870         0.537079     0.354214   \n",
       "c_dollar2_poverty                -0.255773        -0.127196     0.347590   \n",
       "c_forest_area                    -0.128064         0.887369     0.679421   \n",
       "c_health_expenditure              1.000000        -0.119837    -0.085814   \n",
       "c_out_of_pocket                  -0.119837         1.000000     0.325402   \n",
       "c_physician                      -0.085814         0.325402     1.000000   \n",
       "c_tuberculosis                   -0.078611         0.272037     0.904064   \n",
       "c_urban_pop                       0.113581        -0.348362    -0.187403   \n",
       "ASR (female)                     -0.408340         0.473556     0.022550   \n",
       "\n",
       "                      c_tuberculosis  c_urban_pop  ASR (female)  \n",
       "year                        0.316367    -0.157359      0.111512  \n",
       "c_dollar2_poverty           0.514823    -0.398811     -0.104906  \n",
       "c_forest_area               0.685022    -0.367116      0.363734  \n",
       "c_health_expenditure       -0.078611     0.113581     -0.408340  \n",
       "c_out_of_pocket             0.272037    -0.348362      0.473556  \n",
       "c_physician                 0.904064    -0.187403      0.022550  \n",
       "c_tuberculosis              1.000000    -0.215587      0.012881  \n",
       "c_urban_pop                -0.215587     1.000000     -0.275399  \n",
       "ASR (female)                0.012881    -0.275399      1.000000  "
      ]
     },
     "execution_count": 4,
     "metadata": {},
     "output_type": "execute_result"
    }
   ],
   "source": [
    "# Melt y_mortality to concatenate with X_df\n",
    "# y_mortality_melt = pd.melt(y_mortality,id_vars='country',value_vars=years, \\\n",
    "#                           var_name='year',value_name='mortality')\n",
    "# y_mortality_melt['year'] = y_mortality_melt['year'].astype(int)\n",
    "\n",
    "# Create corr_Xy with X_df and y_mortality_melt merged for correlation matrix\n",
    "Xy_df = X_df.merge(y_f,on=['country','year'])\n",
    "Xy_df = Xy_df.dropna()\n",
    "\n",
    "# Display the correlation matrix\n",
    "Xy_df.drop(columns='country').corr()"
   ]
  },
  {
   "cell_type": "markdown",
   "id": "2e817e67",
   "metadata": {},
   "source": [
    "### Grouping Countries"
   ]
  },
  {
   "cell_type": "markdown",
   "id": "b4ebcaa5",
   "metadata": {},
   "source": [
    "We grouped countries into four different groups based on their Human Development Index (HDI) as following: 1 being \"Low\", 2 being \"Medium\", 3 being \"High\", and 4 being \"Very High\"."
   ]
  },
  {
   "cell_type": "code",
   "execution_count": 6,
   "id": "e9d289d4",
   "metadata": {},
   "outputs": [],
   "source": [
    "# Get dataset of countries' Human Development Index\n",
    "hdi_countries = pd.read_csv('./data/dataframes/hdi')\n",
    "\n",
    "# Merge HDI dataframe with X_df on country\n",
    "X_hdi = X_df.merge(hdi_countries,on='country')\n",
    "\n",
    "# Group into countries with different hdi values\n",
    "X_hdi_1 = X_hdi[X_hdi['hdicode']==1.0] \n",
    "X_hdi_2 = X_hdi[X_hdi['hdicode']==2.0]\n",
    "X_hdi_3 = X_hdi[X_hdi['hdicode']==3.0]\n",
    "X_hdi_4 = X_hdi[X_hdi['hdicode']==4.0]\n",
    "\n",
    "# # Merge dataframe y_mortality with each X_hdi dataframes to create separate \n",
    "# # dataframes for countries with different hdi values\n",
    "# Xy_hdi_1 = X_hdi_1.merge(y_mortality_melt,on=['country','year']).dropna()\n",
    "# Xy_hdi_2 = X_hdi_2.merge(y_mortality_melt,on=['country','year']).dropna()\n",
    "# Xy_hdi_3 = X_hdi_3.merge(y_mortality_melt,on=['country','year']).dropna()\n",
    "# Xy_hdi_4 = X_hdi_4.merge(y_mortality_melt,on=['country','year']).dropna()\n",
    "\n",
    "Xy_hdi_all = X_hdi.merge(y_f,on=['country','year']).merge(y_m,on=['country','year'])\n",
    "Xy_hdi_all.to_csv('')"
   ]
  },
  {
   "cell_type": "markdown",
   "id": "96475285",
   "metadata": {},
   "source": [
    "### Model Training"
   ]
  },
  {
   "cell_type": "markdown",
   "id": "00d2cf94",
   "metadata": {},
   "source": [
    "Next we trained separate models for countries with different HDI values to compare the weight of each input. First we split the test set and train set."
   ]
  },
  {
   "cell_type": "code",
   "execution_count": 5,
   "id": "ee72bb33",
   "metadata": {},
   "outputs": [],
   "source": [
    "# Split train test for each hdi categories\n",
    "X_hdi1_train, X_hdi1_test, y_hdi1_train, y_hdi1_test = train_test_split \\\n",
    "(Xy_hdi_1.drop(columns=['mortality','country','hdicode','year','Unnamed: 0']), \\\n",
    " Xy_hdi_1['mortality'], test_size=0.2,random_state=2950)\n",
    "X_hdi2_train, X_hdi2_test, y_hdi2_train, y_hdi2_test = train_test_split \\\n",
    "(Xy_hdi_2.drop(columns=['mortality','country','hdicode','year','Unnamed: 0']),\\\n",
    " Xy_hdi_2['mortality'], test_size=0.2,random_state=2950)\n",
    "X_hdi3_train, X_hdi3_test, y_hdi3_train, y_hdi3_test = train_test_split \\\n",
    "(Xy_hdi_3.drop(columns=['mortality','country','hdicode','year','Unnamed: 0']), \\\n",
    " Xy_hdi_3['mortality'], test_size=0.2,random_state=2950)\n",
    "X_hdi4_train, X_hdi4_test, y_hdi4_train, y_hdi4_test = train_test_split \\\n",
    "(Xy_hdi_4.drop(columns=['mortality','country','hdicode','year','Unnamed: 0']), \\\n",
    " Xy_hdi_4['mortality'], test_size=0.2,random_state=2950)"
   ]
  },
  {
   "cell_type": "code",
   "execution_count": 6,
   "id": "5b85cb3c",
   "metadata": {},
   "outputs": [
    {
     "name": "stdout",
     "output_type": "stream",
     "text": [
      "HDI 1 Mean Squared Error: 16.949771786522657\n",
      "HDI 2 Mean Squared Error: 46.14491654415083\n",
      "HDI 3 Mean Squared Error: 47.453855043340965\n",
      "HDI 4 Mean Squared Error: 39.07412663779996\n"
     ]
    }
   ],
   "source": [
    "# Fit each multilinear model\n",
    "model_hdi1 = LinearRegression()\n",
    "model_hdi2 = LinearRegression()\n",
    "model_hdi3 = LinearRegression()\n",
    "model_hdi4 = LinearRegression()\n",
    "\n",
    "model_hdi1.fit(X_hdi1_train,y_hdi1_train)\n",
    "model_hdi2.fit(X_hdi2_train,y_hdi2_train)\n",
    "model_hdi3.fit(X_hdi3_train,y_hdi3_train)\n",
    "model_hdi4.fit(X_hdi4_train,y_hdi4_train)\n",
    "\n",
    "# Print MSE of each model\n",
    "y_hdi1_pred = model_hdi1.predict(X_hdi1_test)\n",
    "mse_hdi1 = mean_squared_error(y_hdi1_test, y_hdi1_pred)\n",
    "print(f'HDI 1 Mean Squared Error: {mse_hdi1}')\n",
    "\n",
    "y_hdi2_pred = model_hdi2.predict(X_hdi2_test)\n",
    "mse_hdi2 = mean_squared_error(y_hdi2_test, y_hdi2_pred)\n",
    "print(f'HDI 2 Mean Squared Error: {mse_hdi2}')\n",
    "\n",
    "y_hdi3_pred = model_hdi3.predict(X_hdi3_test)\n",
    "mse_hdi3 = mean_squared_error(y_hdi3_test, y_hdi3_pred)\n",
    "print(f'HDI 3 Mean Squared Error: {mse_hdi3}')\n",
    "\n",
    "y_hdi4_pred = model_hdi4.predict(X_hdi4_test)\n",
    "mse_hdi4 = mean_squared_error(y_hdi4_test, y_hdi4_pred)\n",
    "print(f'HDI 4 Mean Squared Error: {mse_hdi4}')"
   ]
  },
  {
   "cell_type": "code",
   "execution_count": 7,
   "id": "91ef1163",
   "metadata": {},
   "outputs": [
    {
     "name": "stdout",
     "output_type": "stream",
     "text": [
      "HDI 1 Coefficient: \n",
      "[-0.07392172  0.12771702 -0.05161373 -0.18896928  0.94565316 -1.07900793\n",
      "  0.01607057]\n",
      "HDI 2 Coefficient: \n",
      "[-0.08988428  0.08733333 -0.00322938 -0.04053926  0.03084154 -0.17943786\n",
      "  0.00972751]\n",
      "HDI 3 Coefficient: \n",
      "[-0.08400009  0.08655574  0.00451196 -0.10076958  0.02652856 -0.11258985\n",
      "  0.01490172]\n",
      "HDI 4 Coefficient: \n",
      "[-0.0068523  -0.01690743 -0.11933517  0.01250459  0.0575888  -0.04337106\n",
      "  0.01381115]\n"
     ]
    }
   ],
   "source": [
    "# Print coefficients of each variable for each model\n",
    "coeff_hdi1 = model_hdi1.coef_\n",
    "coeff_hdi2 = model_hdi2.coef_\n",
    "coeff_hdi3 = model_hdi3.coef_\n",
    "coeff_hdi4 = model_hdi4.coef_\n",
    "print(f'HDI 1 Coefficient: \\n{coeff_hdi1}')\n",
    "print(f'HDI 2 Coefficient: \\n{coeff_hdi2}')\n",
    "print(f'HDI 3 Coefficient: \\n{coeff_hdi3}')\n",
    "print(f'HDI 4 Coefficient: \\n{coeff_hdi4}')"
   ]
  },
  {
   "cell_type": "markdown",
   "id": "a3683e68",
   "metadata": {},
   "source": [
    "### Compare the Coefficients"
   ]
  },
  {
   "cell_type": "markdown",
   "id": "923637eb",
   "metadata": {},
   "source": [
    "Due to time limits, we could not perform hypothesis tests, but we could observe differences in the coefficients derived by the model."
   ]
  },
  {
   "cell_type": "markdown",
   "id": "ff143add",
   "metadata": {},
   "source": [
    "## 2.4 Data Analysis for Hypothesis 2"
   ]
  },
  {
   "cell_type": "markdown",
   "id": "85d4fe0b",
   "metadata": {},
   "source": [
    "We were also unable to complete this part."
   ]
  },
  {
   "cell_type": "markdown",
   "id": "134ecbef",
   "metadata": {},
   "source": [
    "# III. Results  <a name=\"results\"></a>"
   ]
  },
  {
   "cell_type": "markdown",
   "id": "5f3e45c6",
   "metadata": {},
   "source": [
    "The magnitude and direction of relationship of the coefficients were different for countries with different Human Development Index values. For example, in countries with 'Very High' HDI, forest area had a slightly negative relationship to cancer mortality rate while in countries with lower HDI, forest area had a slightly positive relationship. This could be interpreted in that countries that are relatively developed benefited from forest area in terms of lower lung cancer mortality rates, while less developed countries did not benefit from the forest area. "
   ]
  },
  {
   "cell_type": "markdown",
   "id": "367fb089",
   "metadata": {},
   "source": [
    "# IV. Discussion  <a name=\"discussion\"></a>"
   ]
  },
  {
   "cell_type": "markdown",
   "id": "43e2e166",
   "metadata": {},
   "source": [
    "## 4.1 Limitations"
   ]
  },
  {
   "cell_type": "markdown",
   "id": "1a9715cd",
   "metadata": {},
   "source": [
    "Overall Dataset:"
   ]
  },
  {
   "cell_type": "markdown",
   "id": "da3650d0",
   "metadata": {},
   "source": [
    "- Since our data is mainly sourced from a single website (The World Bank), most of our data faces the same limitations as well. For example, all of our dataframes lack any data for years before 2000, and also vary in the amount of NaNs that exist even outside of those years. There is a varying amount of documentation for varying countries, with those like the United States and Norway having almost complete information, while countries such as Angora and Afghanistan may lack information for a few years. Dealing with these NaN values will impact what subset of years we decide to analyze, and additionally what countries may not be suitable for an exploratory data analysis due to a lack of data.\n",
    "- We are assuming different indicators affect different countries to the same degree. For example, depending on the countries location, forest area might not have as much of an impact. We selected the forest area dataframe because forests impact levels of air pollution which in turn effects incidence and survival rates of lung cancer. However the impact of forests on air pollution is dependent on geographical factors such as the alltitude, climate, and biomes of a country. Additionally, we are only looking at the forest area within the borders of a country. Most likely this will not have too much of an effect on large countries such as the U.S. or Canada, but smaller countries closely packed together such as the ones in Europe, could be greatly impacted.\n",
    "- The data sets we included are not immedietly related to lung cancer. For example instead of using a dataset 'tuburculosis incidence per 100000 people', a data set that looked for 'incidence rates of turboculosis patients that later developed lung cancer' would be less removed. The closer degrees of relevance a dataset can have, the more likely high correlations actually means something. Basically, our data set is limiting how far we can take possible interpretaions of our data analysis.\n",
    "- Like any project including data, there are underlying variables that are not immedieatly obvious. An example of a potential underlying variable not considered in our data is age groups. We can not know if someone who passed away at 80 actually passed away because of lung cancer, other medical issues, old age, or a combination. Additionally differeces in access to medical care depending on age, race/ethnicity are hard to properly gauge. Survival rates of lung cancer only looks at the people who had some form of medical access and thus could be documented. In countries like the U.S. where medical care is privatized and many do not go to hospitals for fear of the bills they would incur, there is a significant population that goes unrecognized by the pulled data sets. "
   ]
  },
  {
   "cell_type": "markdown",
   "id": "e28bf074",
   "metadata": {},
   "source": [
    "Hypothesis 1:"
   ]
  },
  {
   "cell_type": "markdown",
   "id": "3908539c",
   "metadata": {},
   "source": [
    "- The MSE was large so the coefficients we derived may not be as indicative of the relationship between the variables. \n",
    "- We could have used transformation to better fit the data and check for heteroskedasticity but could not due to time limits. Different models such as neural networks could have performed better."
   ]
  }
 ],
 "metadata": {
  "kernelspec": {
   "display_name": "Python 3 (ipykernel)",
   "language": "python",
   "name": "python3"
  },
  "language_info": {
   "codemirror_mode": {
    "name": "ipython",
    "version": 3
   },
   "file_extension": ".py",
   "mimetype": "text/x-python",
   "name": "python",
   "nbconvert_exporter": "python",
   "pygments_lexer": "ipython3",
   "version": "3.10.12"
  }
 },
 "nbformat": 4,
 "nbformat_minor": 5
}
