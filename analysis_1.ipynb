{
 "cells": [
  {
   "cell_type": "markdown",
   "id": "591998a7",
   "metadata": {},
   "source": [
    "# Imports"
   ]
  },
  {
   "cell_type": "code",
   "execution_count": 1,
   "id": "86ee639e",
   "metadata": {},
   "outputs": [],
   "source": [
    "import numpy as np\n",
    "import pandas as pd\n",
    "import matplotlib.pyplot as plt\n",
    "import seaborn as sns\n",
    "from sklearn.linear_model import LinearRegression, LogisticRegression\n",
    "import duckdb"
   ]
  },
  {
   "cell_type": "markdown",
   "id": "9892293b",
   "metadata": {},
   "source": [
    "variables data_names, cleaned_data_names, col_full_name, years here"
   ]
  },
  {
   "cell_type": "code",
   "execution_count": 2,
   "id": "5b50d415",
   "metadata": {},
   "outputs": [],
   "source": [
    "data_names = ['Proportion of Population Pushed Below $2.15 Poverty Line by Out-of-Pocket Health Care Expenditure (%)',\n",
    "              'Proportion of Population Pushed Below $3.65 Poverty Line by Out-of-Pocket Health Care Expenditure (%)',\n",
    "              'PM2.5 Air Pollution, Mean Annual Exposure (Mcg per Cubic Meter)',\n",
    "              'Current Health Expenditure (% of GDP)',\n",
    "              'Forest Area Coverage (%)',\n",
    "              'Domestic General Government Health Expenditure per Capita (Current US$)',\n",
    "              'Out-of-Pocket Ependiture per Capita (Current US$)',\n",
    "              'Physicians (Per 1000 People)',\n",
    "              'Proportion of Population Spending More Than 10% of Income on Healthcare (%)',\n",
    "              'Private Health Expenditure per Capita (Current US$)',\n",
    "              'Incidence of Tuberculosis (Per 100,000 People)',\n",
    "              'Urban Population (% of Total Population)'\n",
    "              ]"
   ]
  },
  {
   "cell_type": "code",
   "execution_count": 3,
   "id": "3d04a613",
   "metadata": {},
   "outputs": [],
   "source": [
    "cleaned_data_names = [ 'c_dollar2_poverty', 'c_dollar3_poverty', 'c_air_pollution',\n",
    "                  'c_current_expenditure', 'c_forest_area',\n",
    "                  'c_health_expenditure', 'c_out_of_pocket', 'c_physician',\n",
    "                  'c_poverty_10', 'c_private_expenditure', 'c_tuberculosis', 'c_urban_pop']"
   ]
  },
  {
   "cell_type": "code",
   "execution_count": 4,
   "id": "b5aa5202",
   "metadata": {},
   "outputs": [],
   "source": [
    "col_full_name= {}\n",
    "for i in np.array(range(12)):\n",
    "    col_full_name[cleaned_data_names[i]] = data_names[i]"
   ]
  },
  {
   "cell_type": "code",
   "execution_count": 5,
   "id": "c5cad88d",
   "metadata": {},
   "outputs": [],
   "source": [
    "years = ['2000','2001','2002','2003','2004','2005','2006','2007','2008','2009',\n",
    "         '2010','2011','2012','2013','2014','2015','2016','2017','2017','2018','2019']"
   ]
  },
  {
   "cell_type": "markdown",
   "id": "e8046d3d",
   "metadata": {},
   "source": [
    "# Dataframes"
   ]
  },
  {
   "cell_type": "markdown",
   "id": "9aa2846b",
   "metadata": {},
   "source": [
    "the variable countries and the dataframes X, X_df, y, and dictionareis of the dataframes associated with each country and a dictionary for each year stored here. Also the country means, medians, and variances."
   ]
  },
  {
   "cell_type": "code",
   "execution_count": 6,
   "id": "4bd850c3",
   "metadata": {},
   "outputs": [],
   "source": [
    "X = pd.read_csv('./data/dataframes/X')\n",
    "X_df = X.set_index('country')\n",
    "y = pd.read_csv('./data/dataframes/y')"
   ]
  },
  {
   "cell_type": "code",
   "execution_count": 7,
   "id": "9bf74589",
   "metadata": {},
   "outputs": [],
   "source": [
    "countries = X['country'].unique()"
   ]
  },
  {
   "cell_type": "code",
   "execution_count": 8,
   "id": "0cf5c691",
   "metadata": {},
   "outputs": [],
   "source": [
    "dict_of_year_dfs = {}\n",
    "for yr in years:\n",
    "    dict_of_year_dfs[yr] = X[X[\"year\"] == str(yr)]"
   ]
  },
  {
   "cell_type": "code",
   "execution_count": 9,
   "id": "107f6bd1",
   "metadata": {},
   "outputs": [],
   "source": [
    "dict_of_country_dfs = {}\n",
    "for c in countries:\n",
    "    dict_of_country_dfs[c] = X[X['country'] == c]"
   ]
  },
  {
   "cell_type": "code",
   "execution_count": 10,
   "id": "2fd017a5",
   "metadata": {},
   "outputs": [],
   "source": [
    "def describe_country_stats(c):\n",
    "    columns = dict_of_country_dfs[c].columns[2:]\n",
    "    print(f\"for the country {c} \\n\\nthe mean for each category is \\n{dict_of_country_dfs[c].get(columns).mean()} \\n\")\n",
    "    print(f\"the median for each category is \\n{dict_of_country_dfs[c].get(columns).median()}\\n\")\n",
    "    print(f\"the variance for each category is \\n{dict_of_country_dfs[c].get(columns).var()}\\n\")"
   ]
  },
  {
   "cell_type": "code",
   "execution_count": 11,
   "id": "957d02e3",
   "metadata": {},
   "outputs": [],
   "source": [
    "y_stat = pd.read_csv('./data/dataframes/y_stat')"
   ]
  },
  {
   "cell_type": "code",
   "execution_count": 12,
   "id": "ac3baa77",
   "metadata": {},
   "outputs": [],
   "source": [
    "country_means_df = pd.read_csv('./data/dataframes/country_means')\n",
    "country_medians_df = pd.read_csv('./data/dataframes/country_medians')\n",
    "country_variances_df = pd.read_csv('./data/dataframes/country_variances')"
   ]
  },
  {
   "cell_type": "markdown",
   "id": "251b6181",
   "metadata": {},
   "source": [
    "# Hypothesis 1\n",
    "The effects of the factors on lung cancer survival rates will vary depending on the country.\n",
    "For example, developed countries will have a higher cancer survival rate if they have a greater\n",
    "forest area, while developing countries will have a lower cancer survival rate for a greater forest\n",
    "area."
   ]
  },
  {
   "cell_type": "markdown",
   "id": "dffb795a",
   "metadata": {},
   "source": [
    "## MultiLinear Regression"
   ]
  },
  {
   "cell_type": "markdown",
   "id": "2f80a584",
   "metadata": {},
   "source": [
    "## Grouping Countries"
   ]
  },
  {
   "cell_type": "markdown",
   "id": "dd173dea",
   "metadata": {},
   "source": [
    "## Mean Beta"
   ]
  },
  {
   "cell_type": "markdown",
   "id": "bef07409",
   "metadata": {},
   "source": [
    "## Hypothesis Tests"
   ]
  }
 ],
 "metadata": {
  "kernelspec": {
   "display_name": "Python 3 (ipykernel)",
   "language": "python",
   "name": "python3"
  },
  "language_info": {
   "codemirror_mode": {
    "name": "ipython",
    "version": 3
   },
   "file_extension": ".py",
   "mimetype": "text/x-python",
   "name": "python",
   "nbconvert_exporter": "python",
   "pygments_lexer": "ipython3",
   "version": "3.9.16"
  }
 },
 "nbformat": 4,
 "nbformat_minor": 5
}
